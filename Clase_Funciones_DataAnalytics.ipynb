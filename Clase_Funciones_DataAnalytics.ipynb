{
 "cells": [
  {
   "cell_type": "markdown",
   "id": "3c7afbd6",
   "metadata": {},
   "source": [
    "# Clase: Funciones en Python\n",
    "**Duración estimada:** 1 hora"
   ]
  },
  {
   "cell_type": "markdown",
   "id": "c5bb60cc",
   "metadata": {},
   "source": [
    "### Objetivo\n",
    "Aprender a usar funciones en Python, incluyendo definición, parámetros, retorno de valores y funciones lambda."
   ]
  },
  {
   "cell_type": "markdown",
   "id": "476bfbb3",
   "metadata": {},
   "source": [
    "## 1. Definición y llamada de funciones\n",
    "Una función es un bloque de código que se ejecuta cuando es llamado."
   ]
  },
  {
   "cell_type": "code",
   "execution_count": null,
   "id": "9ea0603a",
   "metadata": {},
   "outputs": [],
   "source": [
    "def saludar():\n",
    "    print(\"¡Hola! Bienvenido a la clase de funciones.\")\n",
    "\n",
    "saludar()"
   ]
  },
  {
   "cell_type": "markdown",
   "id": "4363ca38",
   "metadata": {},
   "source": [
    "## 2. Argumentos y parámetros\n",
    "Los parámetros se definen en la función. Los argumentos se pasan cuando se llama."
   ]
  },
  {
   "cell_type": "code",
   "execution_count": null,
   "id": "7b851012",
   "metadata": {},
   "outputs": [],
   "source": [
    "def saludar_persona(nombre):\n",
    "    print(f\"¡Hola, {nombre}!\")\n",
    "\n",
    "saludar_persona(\"Ana\")"
   ]
  },
  {
   "cell_type": "code",
   "execution_count": null,
   "id": "1cc2bda1",
   "metadata": {},
   "outputs": [],
   "source": [
    "def sumar(a, b):\n",
    "    resultado = a + b\n",
    "    print(f\"La suma de {a} y {b} es {resultado}\")\n",
    "\n",
    "sumar(5, 7)"
   ]
  },
  {
   "cell_type": "markdown",
   "id": "38b467df",
   "metadata": {},
   "source": [
    "## 3. Retorno de valores\n",
    "`return` permite devolver un valor desde una función."
   ]
  },
  {
   "cell_type": "code",
   "execution_count": null,
   "id": "afa87719",
   "metadata": {},
   "outputs": [],
   "source": [
    "def multiplicar(a, b):\n",
    "    return a * b\n",
    "\n",
    "resultado = multiplicar(3, 4)\n",
    "print(f\"Resultado: {resultado}\")"
   ]
  },
  {
   "cell_type": "code",
   "execution_count": null,
   "id": "955cea6a",
   "metadata": {},
   "outputs": [],
   "source": [
    "def calcular_area(base, altura):\n",
    "    return base * altura\n",
    "\n",
    "area = calcular_area(5, 10)\n",
    "print(f\"Área del rectángulo: {area}\")"
   ]
  },
  {
   "cell_type": "markdown",
   "id": "47f662fc",
   "metadata": {},
   "source": [
    "## 4. Funciones lambda (anónimas)\n",
    "Son funciones pequeñas y sin nombre, ideales para operaciones simples."
   ]
  },
  {
   "cell_type": "code",
   "execution_count": null,
   "id": "6f5839d9",
   "metadata": {},
   "outputs": [],
   "source": [
    "sumar = lambda x, y: x + y\n",
    "print(sumar(2, 3))"
   ]
  },
  {
   "cell_type": "code",
   "execution_count": null,
   "id": "e3d8cd2e",
   "metadata": {},
   "outputs": [],
   "source": [
    "cuadrado = lambda x: x ** 2\n",
    "print(cuadrado(5))"
   ]
  },
  {
   "cell_type": "code",
   "execution_count": null,
   "id": "ec32bf16",
   "metadata": {},
   "outputs": [],
   "source": [
    "numeros = [1, 2, 3, 4, 5, 6, 7, 8, 9, 10]\n",
    "pares = list(filter(lambda x: x % 2 == 0, numeros))\n",
    "print(pares)"
   ]
  },
  {
   "cell_type": "markdown",
   "id": "f88d29f3",
   "metadata": {},
   "source": [
    "## Resumen\n",
    "- Las funciones permiten reutilizar código.\n",
    "- Se pueden usar parámetros y devolver valores con `return`.\n",
    "- Las funciones lambda son útiles para expresiones rápidas."
   ]
  }
 ],
 "metadata": {},
 "nbformat": 4,
 "nbformat_minor": 5
}
