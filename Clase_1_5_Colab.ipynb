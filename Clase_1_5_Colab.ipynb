{
 "cells": [
  {
   "cell_type": "markdown",
   "id": "1b2378bb",
   "metadata": {},
   "source": [
    "# 🧪 Tema 1.5: Introducción a Módulos y Paquetes en Python\n",
    "Diplomado en Data Analytics"
   ]
  },
  {
   "cell_type": "markdown",
   "id": "a5324bf0",
   "metadata": {},
   "source": [
    "### 🎯 Objetivo\n",
    "Comprender el uso de módulos y paquetes en Python, conocer el ecosistema de librerías para análisis de datos y aprender las bases de NumPy y Pandas."
   ]
  },
  {
   "cell_type": "markdown",
   "id": "bd4a59f3",
   "metadata": {},
   "source": [
    "## 📦 1. ¿Qué son los Módulos y Paquetes?\n",
    "- **Módulo:** archivo con funciones o clases reutilizables.\n",
    "- **Paquete:** carpeta que contiene varios módulos.\n",
    "\n",
    "📌 **Ejemplo básico:**"
   ]
  },
  {
   "cell_type": "code",
   "execution_count": null,
   "id": "50cd7858",
   "metadata": {},
   "outputs": [],
   "source": [
    "# Usando un módulo estándar\n",
    "import math\n",
    "print(\"Raíz cuadrada de 25:\", math.sqrt(25))\n"
   ]
  },
  {
   "cell_type": "markdown",
   "id": "19348529",
   "metadata": {},
   "source": [
    "## 🌐 2. Ecosistema de Librerías para Data Analytics\n",
    "- **NumPy**: manejo de arrays.\n",
    "- **Pandas**: manipulación de datos tabulares.\n",
    "- **Matplotlib / Seaborn**: visualización.\n",
    "- **Scikit-learn**: modelos de machine learning.\n",
    "- **Statsmodels**: análisis estadístico.\n",
    "\n",
    "📌 Asegúrate de tener instaladas las librerías (solo en local):\n",
    "```bash\n",
    "pip install numpy pandas\n",
    "```"
   ]
  },
  {
   "cell_type": "markdown",
   "id": "e73265b2",
   "metadata": {},
   "source": [
    "## 🔢 3. Introducción a NumPy\n",
    "`NumPy` permite trabajar con arreglos multidimensionales (más rápidos que listas)."
   ]
  },
  {
   "cell_type": "code",
   "execution_count": null,
   "id": "fadda584",
   "metadata": {},
   "outputs": [],
   "source": [
    "import numpy as np\n",
    "\n",
    "a = np.array([10, 20, 30])\n",
    "print(\"Array a:\", a)\n",
    "print(\"Suma a + 5:\", a + 5)\n",
    "print(\"Media:\", np.mean(a))\n"
   ]
  },
  {
   "cell_type": "markdown",
   "id": "0da80d31",
   "metadata": {},
   "source": [
    "### 🧠 Ejercicio 1\n",
    "Crea un array del 1 al 10 y multiplícalo por 2."
   ]
  },
  {
   "cell_type": "code",
   "execution_count": null,
   "id": "bbad536f",
   "metadata": {},
   "outputs": [],
   "source": [
    "# Tu código aquí\n",
    "b = np.arange(1, 11)\n",
    "print(\"Array del 1 al 10:\", b)\n",
    "print(\"Multiplicado por 2:\", b * 2)\n"
   ]
  },
  {
   "cell_type": "markdown",
   "id": "bb14a558",
   "metadata": {},
   "source": [
    "## 📊 4. Introducción a Pandas\n",
    "`Pandas` permite trabajar con datos tipo tabla (como en Excel)."
   ]
  },
  {
   "cell_type": "code",
   "execution_count": null,
   "id": "a7b458c4",
   "metadata": {},
   "outputs": [],
   "source": [
    "import pandas as pd\n",
    "\n",
    "datos = {\n",
    "    'Nombre': ['Ana', 'Luis', 'Carlos'],\n",
    "    'Edad': [23, 25, 30],\n",
    "    'Ciudad': ['CDMX', 'GDL', 'MTY']\n",
    "}\n",
    "\n",
    "df = pd.DataFrame(datos)\n",
    "print(\"DataFrame de ejemplo:\")\n",
    "print(df)\n"
   ]
  },
  {
   "cell_type": "markdown",
   "id": "4a7b6f3f",
   "metadata": {},
   "source": [
    "### 🧠 Ejercicio 2\n",
    "Filtra los registros con edad mayor a 24."
   ]
  },
  {
   "cell_type": "code",
   "execution_count": null,
   "id": "e16b47a6",
   "metadata": {},
   "outputs": [],
   "source": [
    "print(\"Personas con edad > 24:\")\n",
    "print(df[df['Edad'] > 24])\n"
   ]
  },
  {
   "cell_type": "markdown",
   "id": "6a3a066f",
   "metadata": {},
   "source": [
    "### 🧠 Ejercicio Final\n",
    "Crea un DataFrame con tus 3 películas favoritas, incluyendo:\n",
    "- Título\n",
    "- Año\n",
    "- Calificación IMDB"
   ]
  },
  {
   "cell_type": "code",
   "execution_count": null,
   "id": "03e2fd00",
   "metadata": {},
   "outputs": [],
   "source": [
    "# Tu DataFrame personalizado\n",
    "peliculas = {\n",
    "    'Título': ['Inception', 'The Matrix', 'Interstellar'],\n",
    "    'Año': [2010, 1999, 2014],\n",
    "    'IMDB': [8.8, 8.7, 8.6]\n",
    "}\n",
    "\n",
    "df_peliculas = pd.DataFrame(peliculas)\n",
    "print(df_peliculas)\n"
   ]
  }
 ],
 "metadata": {},
 "nbformat": 4,
 "nbformat_minor": 5
}
