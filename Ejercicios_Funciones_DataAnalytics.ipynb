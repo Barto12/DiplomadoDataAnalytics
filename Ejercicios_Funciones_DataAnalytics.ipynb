{
 "cells": [
  {
   "cell_type": "markdown",
   "id": "1a7319f3",
   "metadata": {},
   "source": [
    "# Ejercicios prácticos: Funciones en Python"
   ]
  },
  {
   "cell_type": "markdown",
   "id": "c70f2714",
   "metadata": {},
   "source": [
    "Resuelve los siguientes ejercicios relacionados con funciones, parámetros, retorno de valores y funciones lambda."
   ]
  },
  {
   "cell_type": "markdown",
   "id": "5a24c694",
   "metadata": {},
   "source": [
    "### Ejercicio 1\n",
    "Crea una función llamada `area_triangulo` que reciba `base` y `altura` como parámetros y devuelva el área."
   ]
  },
  {
   "cell_type": "code",
   "execution_count": null,
   "id": "a24bcea2",
   "metadata": {},
   "outputs": [],
   "source": [
    "def area_triangulo(base, altura):\n",
    "    # Tu código aquí\n",
    "    pass\n",
    "\n",
    "# Prueba\n",
    "# print(area_triangulo(5, 3))"
   ]
  },
  {
   "cell_type": "markdown",
   "id": "6cac3352",
   "metadata": {},
   "source": [
    "### Ejercicio 2\n",
    "Escribe una función llamada `es_par` que reciba un número y devuelva `True` si es par o `False` si es impar."
   ]
  },
  {
   "cell_type": "code",
   "execution_count": null,
   "id": "06dd523e",
   "metadata": {},
   "outputs": [],
   "source": [
    "def es_par(numero):\n",
    "    # Tu código aquí\n",
    "    pass\n",
    "\n",
    "# Prueba\n",
    "# print(es_par(4))"
   ]
  },
  {
   "cell_type": "markdown",
   "id": "a4bd6fb8",
   "metadata": {},
   "source": [
    "### Ejercicio 3\n",
    "Crea una función lambda que reciba dos números y devuelva su resta."
   ]
  },
  {
   "cell_type": "code",
   "execution_count": null,
   "id": "f16973f5",
   "metadata": {},
   "outputs": [],
   "source": [
    "# Tu función lambda aquí\n",
    "# resta = lambda ...\n",
    "\n",
    "# print(resta(10, 3))"
   ]
  },
  {
   "cell_type": "markdown",
   "id": "1914c56f",
   "metadata": {},
   "source": [
    "### Ejercicio 4\n",
    "Crea una función llamada `mayores_de_edad` que reciba una lista de edades y devuelva una nueva lista solo con las mayores o iguales a 18 usando `filter` y `lambda`."
   ]
  },
  {
   "cell_type": "code",
   "execution_count": null,
   "id": "5f2edaa2",
   "metadata": {},
   "outputs": [],
   "source": [
    "def mayores_de_edad(lista):\n",
    "    # Tu código aquí\n",
    "    pass\n",
    "\n",
    "# Prueba\n",
    "# print(mayores_de_edad([12, 25, 17, 30, 15]))"
   ]
  },
  {
   "cell_type": "markdown",
   "id": "1efebc71",
   "metadata": {},
   "source": [
    "### Ejercicio 5\n",
    "Escribe una función que reciba una lista de nombres y devuelva una lista nueva con los nombres en mayúsculas."
   ]
  },
  {
   "cell_type": "code",
   "execution_count": null,
   "id": "478876e4",
   "metadata": {},
   "outputs": [],
   "source": [
    "def nombres_en_mayusculas(nombres):\n",
    "    # Tu código aquí\n",
    "    pass\n",
    "\n",
    "# Prueba\n",
    "# print(nombres_en_mayusculas(['ana', 'luis', 'maría']))"
   ]
  }
 ],
 "metadata": {},
 "nbformat": 4,
 "nbformat_minor": 5
}
