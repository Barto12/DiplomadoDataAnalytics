{
 "cells": [
  {
   "cell_type": "markdown",
   "id": "ac940b46",
   "metadata": {},
   "source": [
    "# 🧪 Ejercicios: Módulos, NumPy y Pandas\n",
    "Diplomado en Data Analytics - Tema 1.5"
   ]
  },
  {
   "cell_type": "markdown",
   "id": "198d87b3",
   "metadata": {},
   "source": [
    "### 👨‍💻 Instrucciones\n",
    "Ejecuta cada celda de código y resuelve los ejercicios propuestos. Puedes modificar los valores y probar tus propias ideas."
   ]
  },
  {
   "cell_type": "markdown",
   "id": "3c83caf0",
   "metadata": {},
   "source": [
    "## 🔹 Ejercicio 1: Importación de Módulos\n",
    "Importa el módulo `math` y usa una de sus funciones."
   ]
  },
  {
   "cell_type": "code",
   "execution_count": null,
   "id": "48fb4ab0",
   "metadata": {},
   "outputs": [],
   "source": [
    "import math\n",
    "\n",
    "# Calcula la raíz cuadrada de 64\n",
    "raiz = math.sqrt(64)\n",
    "print(\"Raíz cuadrada de 64:\", raiz)\n"
   ]
  },
  {
   "cell_type": "markdown",
   "id": "73315bbb",
   "metadata": {},
   "source": [
    "## 🔹 Ejercicio 2: Uso de NumPy\n",
    "Crea un arreglo del 1 al 10 y obtén su suma, promedio y multiplícalo por 2."
   ]
  },
  {
   "cell_type": "code",
   "execution_count": null,
   "id": "5f94a062",
   "metadata": {},
   "outputs": [],
   "source": [
    "import numpy as np\n",
    "\n",
    "# Crea el array\n",
    "arr = np.arange(1, 11)\n",
    "print(\"Array:\", arr)\n",
    "\n",
    "# Suma\n",
    "print(\"Suma:\", np.sum(arr))\n",
    "\n",
    "# Promedio\n",
    "print(\"Promedio:\", np.mean(arr))\n",
    "\n",
    "# Multiplicado por 2\n",
    "print(\"Multiplicado por 2:\", arr * 2)\n"
   ]
  },
  {
   "cell_type": "markdown",
   "id": "32050cf4",
   "metadata": {},
   "source": [
    "## 🔹 Ejercicio 3: DataFrame con Pandas\n",
    "Crea un DataFrame con datos de personas y filtra por edad mayor a 24."
   ]
  },
  {
   "cell_type": "code",
   "execution_count": null,
   "id": "f807a2b1",
   "metadata": {},
   "outputs": [],
   "source": [
    "import pandas as pd\n",
    "\n",
    "datos = {\n",
    "    'Nombre': ['Ana', 'Luis', 'Carlos', 'Sofía'],\n",
    "    'Edad': [23, 25, 30, 22],\n",
    "    'Ciudad': ['CDMX', 'GDL', 'MTY', 'CDMX']\n",
    "}\n",
    "\n",
    "df = pd.DataFrame(datos)\n",
    "print(\"DataFrame original:\")\n",
    "print(df)\n",
    "\n",
    "# Filtrado\n",
    "print(\"\\nPersonas con edad > 24:\")\n",
    "print(df[df['Edad'] > 24])\n"
   ]
  },
  {
   "cell_type": "markdown",
   "id": "0cfe94c5",
   "metadata": {},
   "source": [
    "## 🔹 Ejercicio 4: Crea tu propio DataFrame\n",
    "Incluye tus 3 comidas favoritas, su precio aproximado y si son saludables o no."
   ]
  },
  {
   "cell_type": "code",
   "execution_count": null,
   "id": "da15e733",
   "metadata": {},
   "outputs": [],
   "source": [
    "# Crea tu propio DataFrame aquí\n",
    "comidas = {\n",
    "    'Comida': ['Tacos', 'Ensalada', 'Pizza'],\n",
    "    'Precio': [50, 70, 90],\n",
    "    'Saludable': [False, True, False]\n",
    "}\n",
    "\n",
    "df_comidas = pd.DataFrame(comidas)\n",
    "print(df_comidas)\n"
   ]
  }
 ],
 "metadata": {},
 "nbformat": 4,
 "nbformat_minor": 5
}
